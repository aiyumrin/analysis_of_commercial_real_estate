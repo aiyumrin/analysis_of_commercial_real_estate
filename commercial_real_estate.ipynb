{
 "cells": [
  {
   "cell_type": "code",
   "execution_count": 1,
   "id": "94aab7f8",
   "metadata": {},
   "outputs": [],
   "source": [
    "import pandas as pd\n",
    "import subprocess\n",
    "import sys\n",
    "from IPython.display import display\n",
    "# Установка кодировки UTF-8 для вывода\n",
    "# sys.stdout.reconfigure(encoding='utf-8')\n",
    "# Сброс ограничений на количество выводимых рядов\n",
    "#pd.set_option('display.max_rows', None)\n",
    "# Сброс ограничений на число столбцов\n",
    "pd.set_option('display.max_columns', None)\n",
    "import time\n",
    "import os\n",
    "from IPython.display import clear_output\n",
    "import matplotlib.pyplot as plt"
   ]
  },
  {
   "cell_type": "markdown",
   "id": "377e6bfd",
   "metadata": {},
   "source": [
    "# Анализ коммерческой недвижимости в городе"
   ]
  },
  {
   "cell_type": "markdown",
   "id": "2b5bf28a",
   "metadata": {},
   "source": [
    "В данной работе проанализируем коммерческую недвижимость в городе с целью выбора оптимального варианта для аренды под нужды малого бизнеса."
   ]
  },
  {
   "cell_type": "markdown",
   "id": "2af3af2a",
   "metadata": {},
   "source": [
    "## Описание данных"
   ]
  },
  {
   "cell_type": "markdown",
   "id": "fed45815",
   "metadata": {},
   "source": [
    " Данные получены с сайта объявлений.\n",
    " \n",
    "    'url'- ссылка на объявление\n",
    "    'title' - заголовок объявления\n",
    "    'Entrance' - вход\n",
    "    'Separate entrance' - наличие отдельного входа\n",
    "    'Total area'- общая площадь\n",
    "    'Floor'- этаж\n",
    "    'Ceiling height' - высота потолков\n",
    "    'Finishing' - отделка\n",
    "    'Heating' - тип отопления\n",
    "    'Rental type' - тип аренды\n",
    "    'Minimum rental period' - минимальный срок аренды\n",
    "    'Layout' - планировка\n",
    "    'Rent of a part' - аренда части\n",
    "    'Utilities included' - включение платежей в стоимость аренды\n",
    "    'Heating.1' - дубликат типа отопления\n",
    "    'Rental holidays' - арендные каникулы\n",
    "    'price' - цена аренды\n",
    "    'description' - описание\n",
    "    'lat' - широта\n",
    "    'lon' - долгота\n",
    "    'building_type' - тип здания\n",
    "    'parking' - наличие парковки\n",
    "    'parking_cnt' - количество парковочных мест\n",
    "    'district' - район города\n",
    "    'date' - дата публикации объявления\n",
    "    'views' - количество просмотров объявления\n",
    "    'seller_type' - тип продавца\n",
    "    'seller_score' - оценка продавца\n",
    "    'reg_date' - дата регистрации продавца\n",
    "    'items_count' - количество объявлений продавца\n",
    "    'comments_count' - количество комментариев\n",
    "    'deposit' - залог"
   ]
  },
  {
   "cell_type": "markdown",
   "id": "9fe42ce1",
   "metadata": {},
   "source": [
    "## Анализ данных в процессе сбора"
   ]
  },
  {
   "cell_type": "code",
   "execution_count": 3,
   "id": "9c375a23",
   "metadata": {
    "scrolled": false
   },
   "outputs": [
    {
     "name": "stdout",
     "output_type": "stream",
     "text": [
      "Data shape: (742, 32)\n",
      "Duplicated: 4\n"
     ]
    },
    {
     "data": {
      "image/png": "[encoded data removed]",
      "text/plain": [
       "<Figure size 1080x360 with 1 Axes>"
      ]
     },
     "metadata": {
      "needs_background": "light"
     },
     "output_type": "display_data"
    }
   ],
   "source": [
    "data = pd.read_csv(r'c:\\Users\\Андрей\\Desktop\\GitHub\\local\\avito\\output.csv')\n",
    "print('Data shape:', data.shape)\n",
    "print('Duplicated:', data.duplicated().sum())\n",
    "data['price'].hist(figsize=(15, 5), bins=100)\n",
    "plt.show;"
   ]
  },
  {
   "cell_type": "code",
   "execution_count": 4,
   "id": "4a497ddb",
   "metadata": {
    "scrolled": false
   },
   "outputs": [
    {
     "data": {
      "text/html": [
       "<div>\n",
       "<style scoped>\n",
       "    .dataframe tbody tr th:only-of-type {\n",
       "        vertical-align: middle;\n",
       "    }\n",
       "\n",
       "    .dataframe tbody tr th {\n",
       "        vertical-align: top;\n",
       "    }\n",
       "\n",
       "    .dataframe thead th {\n",
       "        text-align: right;\n",
       "    }\n",
       "</style>\n",
       "<table border=\"1\" class=\"dataframe\">\n",
       "  <thead>\n",
       "    <tr style=\"text-align: right;\">\n",
       "      <th></th>\n",
       "      <th>url</th>\n",
       "      <th>title</th>\n",
       "      <th>Entrance</th>\n",
       "      <th>Separate entrance</th>\n",
       "      <th>Total area</th>\n",
       "      <th>Floor</th>\n",
       "      <th>Ceiling height</th>\n",
       "      <th>Finishing</th>\n",
       "      <th>Heating</th>\n",
       "      <th>Rental type</th>\n",
       "      <th>Minimum rental period</th>\n",
       "      <th>Layout</th>\n",
       "      <th>Rent of a part</th>\n",
       "      <th>Utilities included</th>\n",
       "      <th>Heating.1</th>\n",
       "      <th>Rental holidays</th>\n",
       "      <th>price</th>\n",
       "      <th>description</th>\n",
       "      <th>lat</th>\n",
       "      <th>lon</th>\n",
       "      <th>building_type</th>\n",
       "      <th>parking</th>\n",
       "      <th>parking_cnt</th>\n",
       "      <th>district</th>\n",
       "      <th>date</th>\n",
       "      <th>views</th>\n",
       "      <th>seller_type</th>\n",
       "      <th>seller_score</th>\n",
       "      <th>reg_date</th>\n",
       "      <th>items_count</th>\n",
       "      <th>comments_count</th>\n",
       "      <th>deposit</th>\n",
       "    </tr>\n",
       "  </thead>\n",
       "  <tbody>\n",
       "    <tr>\n",
       "      <th>0</th>\n",
       "      <td>https://www.avito.ru/ufa/kommercheskaya_nedviz...</td>\n",
       "      <td>Свободного назначения, 101.7 м²</td>\n",
       "      <td>с улицы</td>\n",
       "      <td>есть</td>\n",
       "      <td>101.7 м²</td>\n",
       "      <td>1</td>\n",
       "      <td>4 м</td>\n",
       "      <td>чистовая</td>\n",
       "      <td>NaN</td>\n",
       "      <td>прямая</td>\n",
       "      <td>NaN</td>\n",
       "      <td>NaN</td>\n",
       "      <td>NaN</td>\n",
       "      <td>NaN</td>\n",
       "      <td>NaN</td>\n",
       "      <td>есть</td>\n",
       "      <td>99000</td>\n",
       "      <td>ОписаниеСдам в аренду чистовое помещение, сам ...</td>\n",
       "      <td>54.717814</td>\n",
       "      <td>55.978170</td>\n",
       "      <td>жилой дом</td>\n",
       "      <td>на улице, бесплатная</td>\n",
       "      <td>50</td>\n",
       "      <td>р-н Кировский</td>\n",
       "      <td>· вчера в 16:30</td>\n",
       "      <td>266 просмотров</td>\n",
       "      <td>Арендодатель</td>\n",
       "      <td>NaN</td>\n",
       "      <td>Завершено 6 объявлений</td>\n",
       "      <td>NaN</td>\n",
       "      <td>NaN</td>\n",
       "      <td>973 ₽ в месяц за м², залог 99 000 ₽</td>\n",
       "    </tr>\n",
       "    <tr>\n",
       "      <th>1</th>\n",
       "      <td>https://www.avito.ru/ufa/kommercheskaya_nedviz...</td>\n",
       "      <td>Свободного назначения, 185.5 м²</td>\n",
       "      <td>с улицы</td>\n",
       "      <td>есть</td>\n",
       "      <td>185.5 м²</td>\n",
       "      <td>1</td>\n",
       "      <td>3 м</td>\n",
       "      <td>чистовая</td>\n",
       "      <td>NaN</td>\n",
       "      <td>прямая</td>\n",
       "      <td>12 мес.</td>\n",
       "      <td>NaN</td>\n",
       "      <td>NaN</td>\n",
       "      <td>эксплуатационные</td>\n",
       "      <td>NaN</td>\n",
       "      <td>есть</td>\n",
       "      <td>180000</td>\n",
       "      <td>ОписаниеСдаётся в аренду на длительный срок то...</td>\n",
       "      <td>54.724878</td>\n",
       "      <td>55.932050</td>\n",
       "      <td>жилой дом</td>\n",
       "      <td>на улице, бесплатная</td>\n",
       "      <td>NaN</td>\n",
       "      <td>р-н Кировский</td>\n",
       "      <td>· вчера в 18:11</td>\n",
       "      <td>506 просмотров</td>\n",
       "      <td>Арендодатель</td>\n",
       "      <td>NaN</td>\n",
       "      <td>NaN</td>\n",
       "      <td>NaN</td>\n",
       "      <td>NaN</td>\n",
       "      <td>970 ₽ в месяц за м², залог 180 000 ₽</td>\n",
       "    </tr>\n",
       "    <tr>\n",
       "      <th>2</th>\n",
       "      <td>https://www.avito.ru/ufa/kommercheskaya_nedviz...</td>\n",
       "      <td>Торговая площадь, 50 м²</td>\n",
       "      <td>с улицы</td>\n",
       "      <td>есть</td>\n",
       "      <td>50 м²</td>\n",
       "      <td>подвальный</td>\n",
       "      <td>2.7 м</td>\n",
       "      <td>чистовая</td>\n",
       "      <td>центральное</td>\n",
       "      <td>прямая</td>\n",
       "      <td>NaN</td>\n",
       "      <td>NaN</td>\n",
       "      <td>возможна</td>\n",
       "      <td>коммунальные</td>\n",
       "      <td>центральное</td>\n",
       "      <td>есть</td>\n",
       "      <td>700</td>\n",
       "      <td>ОписаниеСдаются торговые помещения в специализ...</td>\n",
       "      <td>54.736447</td>\n",
       "      <td>55.989755</td>\n",
       "      <td>жилой дом</td>\n",
       "      <td>на улице, бесплатная, подходит для грузового ...</td>\n",
       "      <td>NaN</td>\n",
       "      <td>р-н Советский</td>\n",
       "      <td>· вчера в 12:40</td>\n",
       "      <td>4193 просмотра</td>\n",
       "      <td>Арендодатель</td>\n",
       "      <td>NaN</td>\n",
       "      <td>NaN</td>\n",
       "      <td>NaN</td>\n",
       "      <td>NaN</td>\n",
       "      <td>700 ₽ в месяц за м², залог 35 000 ₽</td>\n",
       "    </tr>\n",
       "  </tbody>\n",
       "</table>\n",
       "</div>"
      ],
      "text/plain": [
       "                                                 url  \\\n",
       "0  https://www.avito.ru/ufa/kommercheskaya_nedviz...   \n",
       "1  https://www.avito.ru/ufa/kommercheskaya_nedviz...   \n",
       "2  https://www.avito.ru/ufa/kommercheskaya_nedviz...   \n",
       "\n",
       "                             title  Entrance Separate entrance Total area  \\\n",
       "0  Свободного назначения, 101.7 м²   с улицы              есть   101.7 м²   \n",
       "1  Свободного назначения, 185.5 м²   с улицы              есть   185.5 м²   \n",
       "2          Торговая площадь, 50 м²   с улицы              есть      50 м²   \n",
       "\n",
       "         Floor Ceiling height  Finishing       Heating Rental type  \\\n",
       "0            1            4 м   чистовая           NaN      прямая   \n",
       "1            1            3 м   чистовая           NaN      прямая   \n",
       "2   подвальный          2.7 м   чистовая   центральное      прямая   \n",
       "\n",
       "  Minimum rental period Layout Rent of a part Utilities included  \\\n",
       "0                   NaN    NaN            NaN                NaN   \n",
       "1               12 мес.    NaN            NaN   эксплуатационные   \n",
       "2                   NaN    NaN       возможна       коммунальные   \n",
       "\n",
       "      Heating.1 Rental holidays   price  \\\n",
       "0           NaN            есть   99000   \n",
       "1           NaN            есть  180000   \n",
       "2   центральное            есть     700   \n",
       "\n",
       "                                         description        lat        lon  \\\n",
       "0  ОписаниеСдам в аренду чистовое помещение, сам ...  54.717814  55.978170   \n",
       "1  ОписаниеСдаётся в аренду на длительный срок то...  54.724878  55.932050   \n",
       "2  ОписаниеСдаются торговые помещения в специализ...  54.736447  55.989755   \n",
       "\n",
       "  building_type                                            parking  \\\n",
       "0     жилой дом                               на улице, бесплатная   \n",
       "1     жилой дом                               на улице, бесплатная   \n",
       "2     жилой дом   на улице, бесплатная, подходит для грузового ...   \n",
       "\n",
       "  parking_cnt       district              date           views   seller_type  \\\n",
       "0          50  р-н Кировский   · вчера в 16:30  266 просмотров  Арендодатель   \n",
       "1         NaN  р-н Кировский   · вчера в 18:11  506 просмотров  Арендодатель   \n",
       "2         NaN  р-н Советский   · вчера в 12:40  4193 просмотра  Арендодатель   \n",
       "\n",
       "  seller_score                reg_date items_count comments_count  \\\n",
       "0          NaN  Завершено 6 объявлений         NaN            NaN   \n",
       "1          NaN                     NaN         NaN            NaN   \n",
       "2          NaN                     NaN         NaN            NaN   \n",
       "\n",
       "                                deposit  \n",
       "0   973 ₽ в месяц за м², залог 99 000 ₽  \n",
       "1  970 ₽ в месяц за м², залог 180 000 ₽  \n",
       "2   700 ₽ в месяц за м², залог 35 000 ₽  "
      ]
     },
     "execution_count": 4,
     "metadata": {},
     "output_type": "execute_result"
    }
   ],
   "source": [
    "data.head(3)"
   ]
  },
  {
   "cell_type": "markdown",
   "id": "45a45349",
   "metadata": {},
   "source": [
    "## Очистка данных"
   ]
  },
  {
   "cell_type": "markdown",
   "id": "0799a90d",
   "metadata": {},
   "source": [
    "Столбец title содержит информацию о назначении и площади помещения. Их необходимо разделить."
   ]
  },
  {
   "cell_type": "code",
   "execution_count": null,
   "id": "7bf67115",
   "metadata": {},
   "outputs": [],
   "source": [
    "data['purpose'] = data['title'].apply(lambda x: x.split(',')[0])\n",
    "data['area'] = data['title'].apply(lambda x: x.split(',')[1])\n",
    "data.head(3)"
   ]
  },
  {
   "cell_type": "code",
   "execution_count": null,
   "id": "95bba4f9",
   "metadata": {},
   "outputs": [],
   "source": [
    "data.head()"
   ]
  },
  {
   "cell_type": "code",
   "execution_count": null,
   "id": "780d8594",
   "metadata": {},
   "outputs": [],
   "source": []
  }
 ],
 "metadata": {
  "kernelspec": {
   "display_name": "Python 3 (ipykernel)",
   "language": "python",
   "name": "python3"
  },
  "language_info": {
   "codemirror_mode": {
    "name": "ipython",
    "version": 3
   },
   "file_extension": ".py",
   "mimetype": "text/x-python",
   "name": "python",
   "nbconvert_exporter": "python",
   "pygments_lexer": "ipython3",
   "version": "3.9.12"
  }
 },
 "nbformat": 4,
 "nbformat_minor": 5
}
