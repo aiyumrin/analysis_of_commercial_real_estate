{
 "cells": [
  {
   "cell_type": "code",
   "execution_count": null,
   "id": "94aab7f8",
   "metadata": {},
   "outputs": [],
   "source": [
    "import pandas as pd\n",
    "import subprocess\n",
    "import sys\n",
    "from IPython.display import display\n",
    "# Установка кодировки UTF-8 для вывода\n",
    "# sys.stdout.reconfigure(encoding='utf-8')\n",
    "# Сброс ограничений на количество выводимых рядов\n",
    "#pd.set_option('display.max_rows', None)\n",
    "# Сброс ограничений на число столбцов\n",
    "pd.set_option('display.max_columns', None)\n",
    "import time\n",
    "import os\n",
    "from IPython.display import clear_output\n",
    "import matplotlib.pyplot as plt"
   ]
  },
  {
   "cell_type": "markdown",
   "id": "377e6bfd",
   "metadata": {},
   "source": [
    "# Анализ коммерческой недвижимости в городе"
   ]
  },
  {
   "cell_type": "markdown",
   "id": "2b5bf28a",
   "metadata": {},
   "source": [
    "В данной работе проанализируем коммерческую недвижимость в городе с целью выбора оптимального варианта для аренды под нужды малого бизнеса."
   ]
  },
  {
   "cell_type": "markdown",
   "id": "2af3af2a",
   "metadata": {},
   "source": [
    "## Описание данных"
   ]
  },
  {
   "cell_type": "markdown",
   "id": "fed45815",
   "metadata": {},
   "source": [
    " Данные получены с сайта объявлений.\n",
    " \n",
    "    'url'- ссылка на объявление\n",
    "    'title' - заголовок объявления\n",
    "    'Entrance' - вход\n",
    "    'Separate entrance' - наличие отдельного входа\n",
    "    'Total area'- общая площадь\n",
    "    'Floor'- этаж\n",
    "    'Ceiling height' - высота потолков\n",
    "    'Finishing' - отделка\n",
    "    'Heating' - тип отопления\n",
    "    'Rental type' - тип аренды\n",
    "    'Minimum rental period' - минимальный срок аренды\n",
    "    'Layout' - планировка\n",
    "    'Rent of a part' - аренда части\n",
    "    'Utilities included' - включение платежей в стоимость аренды\n",
    "    'Heating.1' - дубликат типа отопления\n",
    "    'Rental holidays' - арендные каникулы\n",
    "    'price' - цена аренды\n",
    "    'description' - описание\n",
    "    'lat' - широта\n",
    "    'lon' - долгота\n",
    "    'building_type' - тип здания\n",
    "    'parking' - наличие парковки\n",
    "    'parking_cnt' - количество парковочных мест\n",
    "    'district' - район города\n",
    "    'date' - дата публикации объявления\n",
    "    'views' - количество просмотров объявления\n",
    "    'seller_type' - тип продавца\n",
    "    'seller_score' - оценка продавца\n",
    "    'reg_date' - дата регистрации продавца\n",
    "    'items_count' - количество объявлений продавца\n",
    "    'comments_count' - количество комментариев\n",
    "    'deposit' - залог"
   ]
  },
  {
   "cell_type": "markdown",
   "id": "9fe42ce1",
   "metadata": {},
   "source": [
    "## Анализ данных в процессе сбора"
   ]
  },
  {
   "cell_type": "code",
   "execution_count": null,
   "id": "9c375a23",
   "metadata": {
    "scrolled": false
   },
   "outputs": [],
   "source": [
    "!copy /Y \"C:\\Users\\Андрей\\Desktop\\GitHub\\local\\avito\\output.csv\" \"D:\\DS\\avito\\\"\n",
    "clear_output()    \n",
    "data = pd.read_csv('output.csv')\n",
    "print('Data shape:', data.shape)\n",
    "print('Duplicated:', data.duplicated().sum())\n",
    "data['price'].hist(figsize=(15, 5), bins=100)\n",
    "plt.show;"
   ]
  },
  {
   "cell_type": "code",
   "execution_count": null,
   "id": "4a497ddb",
   "metadata": {
    "scrolled": false
   },
   "outputs": [],
   "source": [
    "data.head(3)"
   ]
  },
  {
   "cell_type": "markdown",
   "id": "45a45349",
   "metadata": {},
   "source": [
    "## Очистка данных"
   ]
  },
  {
   "cell_type": "markdown",
   "id": "0799a90d",
   "metadata": {},
   "source": [
    "Столбец title содержит информацию о назначении и площади помещения. Их необходимо разделить."
   ]
  },
  {
   "cell_type": "code",
   "execution_count": null,
   "id": "7bf67115",
   "metadata": {},
   "outputs": [],
   "source": [
    "data['purpose'] = data['title'].apply(lambda x: x.split(',')[0])\n",
    "data['area'] = data['title'].apply(lambda x: x.split(',')[1])\n",
    "data.head(3)"
   ]
  },
  {
   "cell_type": "code",
   "execution_count": null,
   "id": "95bba4f9",
   "metadata": {},
   "outputs": [],
   "source": [
    "data.head()"
   ]
  },
  {
   "cell_type": "code",
   "execution_count": null,
   "id": "780d8594",
   "metadata": {},
   "outputs": [],
   "source": []
  }
 ],
 "metadata": {
  "kernelspec": {
   "display_name": "Python 3 (ipykernel)",
   "language": "python",
   "name": "python3"
  },
  "language_info": {
   "codemirror_mode": {
    "name": "ipython",
    "version": 3
   },
   "file_extension": ".py",
   "mimetype": "text/x-python",
   "name": "python",
   "nbconvert_exporter": "python",
   "pygments_lexer": "ipython3",
   "version": "3.9.12"
  }
 },
 "nbformat": 4,
 "nbformat_minor": 5
}
